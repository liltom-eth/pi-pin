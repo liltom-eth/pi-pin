{
 "cells": [
  {
   "cell_type": "code",
   "execution_count": 6,
   "metadata": {},
   "outputs": [
    {
     "name": "stdout",
     "output_type": "stream",
     "text": [
      "Welcome back. We've talked about how Bay Area tech conferences are making a big comeback. But we haven't seen anything like this one in quite some time. Tens of thousands of people packing downtown San Jose to talk about artificial intelligence. Our business and tech reporter Scott Budman was among them. Your real intelligence, not artificial, Scott. Just how big is this one? I'll tell you how big this is because we've seen a lot sort of packed together. But if you've ever been to a concert at SAP Center, you see the lineups just outside for miles. That's how this felt. It was huge. And investors have really gotten wealthy recently thanks to artificial intelligence. And this week, South Bay businesses also get a taste of the action. With huge crowds downtown... Lamborghinis hired as mobile advertisers... And a rock concert-sized line outside SAP Center, NVIDIA's GTC convention is bringing the AI momentum to San Jose this week. We are the nation's AI capital. With a huge number of techies ready to get together and spend money. I know I have about 20,000 people here in total for the conference. We're seeing restaurants and coffee shops are full. The parks look full. NVIDIA CEO Jensen Wang, whose company has generated a staggering trillion dollars in stock market value so far this year, spoke in front of fans and some AI protesters about the future of artificial intelligence. There is something going on. The industry is being transformed, not just ours. Because the computer industry, the computer, is the single most important instrument of society today, fundamental transformations in computing affects every industry. It's also affecting Mezcal restaurant. Normally closed on Mondays, it's completely bought out for the next two days thanks to the NVIDIA convention. This convention bought out a lot of restaurants, a lot of venues. I can tell you, 90% of the venues in downtown, they've already been booked for at least five, four months. And everything was shut down because of COVID, including those conventions, so talk about a rebound. Yeah, it's really a big rebound. Remember, Kira, how people traveled so much after the lockdown, and people called it revenge travel, and they spent money and really went to a lot of places. I think you're seeing that in the tech industry. People really want to go see their colleagues, see the latest technology, and they're willing to buy out hotels and entire restaurants to do it and say, once again, the industry is back in style. It's exciting. Scott, thanks so much for that.\n",
      "\n"
     ]
    }
   ],
   "source": [
    "import openai\n",
    "from openai import OpenAI\n",
    "\n",
    "from dotenv import load_dotenv\n",
    "load_dotenv()\n",
    "openai.api_key=os.getenv(\"OPENAI_API_KEY\")\n",
    "print(openai.api_key)\n",
    "\n",
    "client = OpenAI()\n",
    "\n",
    "audio_file = open(\"./recording/wav_2024_03_20-065147_PM.wav\", \"rb\")\n",
    "transcription = client.audio.transcriptions.create(\n",
    "  model=\"whisper-1\", \n",
    "  file=audio_file, \n",
    "  response_format=\"text\"\n",
    ")\n",
    "print(transcription)"
   ]
  },
  {
   "cell_type": "code",
   "execution_count": 9,
   "metadata": {},
   "outputs": [],
   "source": [
    "f = open(\"./recording/transcription.txt\", \"a\")\n",
    "f.write(transcription)\n",
    "f.close()\n"
   ]
  },
  {
   "cell_type": "code",
   "execution_count": 11,
   "metadata": {},
   "outputs": [
    {
     "name": "stdout",
     "output_type": "stream",
     "text": [
      "The report discusses the significant comeback of tech conferences in the Bay Area, focusing on a particularly large event in downtown San Jose centered around artificial intelligence. Tens of thousands of attendees created a scene reminiscent of a major concert outside the SAP Center, highlighting the immense interest and investment in AI. NVIDIA's GTC convention is spotlighted as a major contributor to this momentum, drawing a crowd of around 20,000 people and significantly benefiting local businesses. NVIDIA CEO Jensen Wang spoke on the transformative impact of AI across various industries, emphasizing the computer as a crucial societal tool. The event has led to a notable economic boost for the area, with restaurants and venues experiencing high demand. This resurgence of tech conferences is likened to the phenomenon of \"revenge travel\" post-COVID lockdowns, indicating a strong desire within the tech community to reconnect, explore new technologies, and invest in the industry's future.\n"
     ]
    }
   ],
   "source": [
    "from openai import OpenAI\n",
    "client = OpenAI()\n",
    "\n",
    "system_prompt = \"You are a helpful assistant. Your task is to summarize the transcription.\"\n",
    "\n",
    "def generate_corrected_transcript(temperature, system_prompt, text):\n",
    "    response = client.chat.completions.create(\n",
    "        model=\"gpt-4-turbo-preview\",\n",
    "        temperature=temperature,\n",
    "        messages=[\n",
    "            {\n",
    "                \"role\": \"system\",\n",
    "                \"content\": system_prompt\n",
    "            },\n",
    "            {\n",
    "                \"role\": \"user\",\n",
    "                \"content\": text\n",
    "            }\n",
    "        ]\n",
    "    )\n",
    "    return response.choices[0].message.content\n",
    "\n",
    "summary = generate_corrected_transcript(0, system_prompt, transcription)\n",
    "print(summary)"
   ]
  },
  {
   "cell_type": "code",
   "execution_count": 12,
   "metadata": {},
   "outputs": [],
   "source": [
    "f = open(\"./recording/summary.txt\", \"a\")\n",
    "f.write(summary)\n",
    "f.close()"
   ]
  }
 ],
 "metadata": {
  "kernelspec": {
   "display_name": "Python 3",
   "language": "python",
   "name": "python3"
  },
  "language_info": {
   "codemirror_mode": {
    "name": "ipython",
    "version": 3
   },
   "file_extension": ".py",
   "mimetype": "text/x-python",
   "name": "python",
   "nbconvert_exporter": "python",
   "pygments_lexer": "ipython3",
   "version": "3.10.14"
  }
 },
 "nbformat": 4,
 "nbformat_minor": 2
}
